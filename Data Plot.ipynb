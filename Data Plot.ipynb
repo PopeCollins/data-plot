{
 "cells": [
  {
   "cell_type": "code",
   "execution_count": null,
   "id": "4c88a23d",
   "metadata": {},
   "outputs": [],
   "source": [
    "import numpy as np\n",
    "arry1 = np.array([1,2,3])"
   ]
  },
  {
   "cell_type": "code",
   "execution_count": 18,
   "id": "1e5bf684",
   "metadata": {},
   "outputs": [
    {
     "name": "stdout",
     "output_type": "stream",
     "text": [
      "[1 2 3]\n"
     ]
    }
   ],
   "source": [
    "print(arry1)"
   ]
  },
  {
   "cell_type": "code",
   "execution_count": 19,
   "id": "ea2f8c6e",
   "metadata": {},
   "outputs": [
    {
     "name": "stdout",
     "output_type": "stream",
     "text": [
      "<class 'numpy.ndarray'>\n"
     ]
    }
   ],
   "source": [
    "print(type(arry1))"
   ]
  },
  {
   "cell_type": "code",
   "execution_count": 20,
   "id": "0ac1df43",
   "metadata": {},
   "outputs": [
    {
     "name": "stdout",
     "output_type": "stream",
     "text": [
      "(3,)\n"
     ]
    }
   ],
   "source": [
    "print(arry1.shape)"
   ]
  },
  {
   "cell_type": "code",
   "execution_count": 21,
   "id": "23630668",
   "metadata": {},
   "outputs": [],
   "source": [
    "arry1[2]=5"
   ]
  },
  {
   "cell_type": "code",
   "execution_count": 22,
   "id": "6efae43b",
   "metadata": {},
   "outputs": [
    {
     "name": "stdout",
     "output_type": "stream",
     "text": [
      "[1 2 5]\n"
     ]
    }
   ],
   "source": [
    "print(arry1)"
   ]
  },
  {
   "cell_type": "code",
   "execution_count": 24,
   "id": "bda27c38",
   "metadata": {},
   "outputs": [
    {
     "name": "stdout",
     "output_type": "stream",
     "text": [
      "[[1 2 3]\n",
      " [3 4 5]]\n"
     ]
    }
   ],
   "source": [
    "arry2 =np.array([[1,2,3],[3,4,5]])\n",
    "print(arry2)"
   ]
  },
  {
   "cell_type": "code",
   "execution_count": 25,
   "id": "79af5c67",
   "metadata": {},
   "outputs": [
    {
     "data": {
      "text/plain": [
       "4"
      ]
     },
     "execution_count": 25,
     "metadata": {},
     "output_type": "execute_result"
    }
   ],
   "source": [
    "arry2[1][1]"
   ]
  },
  {
   "cell_type": "code",
   "execution_count": 27,
   "id": "8a809b2f",
   "metadata": {},
   "outputs": [
    {
     "name": "stdout",
     "output_type": "stream",
     "text": [
      "(2, 3)\n"
     ]
    }
   ],
   "source": [
    "print(arry2.shape)"
   ]
  },
  {
   "cell_type": "code",
   "execution_count": 28,
   "id": "bf8f1cf8",
   "metadata": {},
   "outputs": [
    {
     "data": {
      "text/plain": [
       "5"
      ]
     },
     "execution_count": 28,
     "metadata": {},
     "output_type": "execute_result"
    }
   ],
   "source": [
    "arry2[1,-1]"
   ]
  },
  {
   "cell_type": "code",
   "execution_count": 33,
   "id": "4654698f",
   "metadata": {},
   "outputs": [
    {
     "data": {
      "text/plain": [
       "array(['Nigeria', 'India', 'China', 'USA', 'Mexico'], dtype='<U7')"
      ]
     },
     "execution_count": 33,
     "metadata": {},
     "output_type": "execute_result"
    }
   ],
   "source": [
    "arry3 = np.array([\"Nigeria\", \"India\", \"China\", \"USA\", \"Mexico\"])\n",
    "arry3"
   ]
  },
  {
   "cell_type": "code",
   "execution_count": 54,
   "id": "aa7717c5",
   "metadata": {},
   "outputs": [
    {
     "name": "stdout",
     "output_type": "stream",
     "text": [
      "[ 0  2  4  6  8 10 12 14 16 18]\n"
     ]
    }
   ],
   "source": [
    "arrR =np.arange(0,20,2)\n",
    "print(arrR)"
   ]
  },
  {
   "cell_type": "code",
   "execution_count": 36,
   "id": "716ae944",
   "metadata": {},
   "outputs": [
    {
     "name": "stdout",
     "output_type": "stream",
     "text": [
      "[ 0.          0.52631579  1.05263158  1.57894737  2.10526316  2.63157895\n",
      "  3.15789474  3.68421053  4.21052632  4.73684211  5.26315789  5.78947368\n",
      "  6.31578947  6.84210526  7.36842105  7.89473684  8.42105263  8.94736842\n",
      "  9.47368421 10.        ]\n"
     ]
    }
   ],
   "source": [
    "arrL = np.linspace(0,10,20)\n",
    "print(arrL)"
   ]
  },
  {
   "cell_type": "code",
   "execution_count": 43,
   "id": "971f513a",
   "metadata": {},
   "outputs": [
    {
     "name": "stdout",
     "output_type": "stream",
     "text": [
      "[0.63275069 0.33943902 0.52534669 0.72770178 0.76587509 0.60699824\n",
      " 0.33094973 0.53341592 0.66645682 0.30757288]\n"
     ]
    }
   ],
   "source": [
    "arr = np.random.rand(10)   #this random 10 number selected\n",
    "print(arr)"
   ]
  },
  {
   "cell_type": "code",
   "execution_count": 41,
   "id": "2cc0ba8d",
   "metadata": {},
   "outputs": [
    {
     "name": "stdout",
     "output_type": "stream",
     "text": [
      "[[0.84724766 0.32903184 0.093639   0.58855761]\n",
      " [0.75061478 0.99341474 0.92251192 0.54723318]\n",
      " [0.74654187 0.97663345 0.45060534 0.57003874]]\n"
     ]
    }
   ],
   "source": [
    "arrd = np.random.rand(3,4)\n",
    "print(arrd)"
   ]
  },
  {
   "cell_type": "code",
   "execution_count": 47,
   "id": "81f17803",
   "metadata": {},
   "outputs": [
    {
     "name": "stdout",
     "output_type": "stream",
     "text": [
      "[0. 0. 0. 0. 0. 0. 0. 0. 0. 0.]\n",
      "/n\n",
      "[[0. 0. 0.]\n",
      " [0. 0. 0.]]\n"
     ]
    }
   ],
   "source": [
    "print(np.zeros(10))\n",
    "print(\"/n\")\n",
    "print(np.zeros((2,3))"
   ]
  },
  {
   "cell_type": "code",
   "execution_count": 55,
   "id": "c9a93ca7",
   "metadata": {},
   "outputs": [
    {
     "name": "stdout",
     "output_type": "stream",
     "text": [
      "[[1. 1. 1. 1.]\n",
      " [1. 1. 1. 1.]\n",
      " [1. 1. 1. 1.]]\n"
     ]
    }
   ],
   "source": [
    "print(np.ones((3,4)))"
   ]
  },
  {
   "cell_type": "code",
   "execution_count": null,
   "id": "c5778ba5",
   "metadata": {},
   "outputs": [],
   "source": []
  }
 ],
 "metadata": {
  "kernelspec": {
   "display_name": "Python 3 (ipykernel)",
   "language": "python",
   "name": "python3"
  },
  "language_info": {
   "codemirror_mode": {
    "name": "ipython",
    "version": 3
   },
   "file_extension": ".py",
   "mimetype": "text/x-python",
   "name": "python",
   "nbconvert_exporter": "python",
   "pygments_lexer": "ipython3",
   "version": "3.9.13"
  }
 },
 "nbformat": 4,
 "nbformat_minor": 5
}
